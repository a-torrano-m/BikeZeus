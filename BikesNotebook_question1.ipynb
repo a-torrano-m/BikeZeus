{
 "cells": [
  {
   "cell_type": "markdown",
   "metadata": {},
   "source": [
    "## Question 1\n",
    "\n",
    "The script interacts directly with the site and parses its json content in local python dictionaries.\n",
    "I apply the assumption that the feature *name* is unique for any station. And hence I can filter the query\n",
    "with it to access the two places appearing in the first question of the assignment."
   ]
  },
  {
   "cell_type": "code",
   "execution_count": 6,
   "metadata": {},
   "outputs": [],
   "source": [
    "import requests\n",
    "import urllib, json\n",
    "\n",
    "'''\n",
    "The script gets the bike and slot availability from\n",
    "remote API of stations listed in the assignment. \n",
    "It produces the result in JSON format.\n",
    "'''\n",
    "\n",
    "__author__ = \"Alexis Torrano\"\n",
    "__email__ = \"a.torrano.m@gmail.com\"\n",
    "__status__ = \"Production\""
   ]
  },
  {
   "cell_type": "code",
   "execution_count": 7,
   "metadata": {},
   "outputs": [],
   "source": [
    "url = \"http://api.citybik.es/v2/networks/bicing\"\n",
    "response = requests.get(url, timeout=15)    \n",
    "# Check for HTTP codes other than 200\n",
    "if response.status_code != 200:\n",
    "    print(\"ERROR \", str(response.status_code))\n",
    "    import sys\n",
    "    sys.exit()"
   ]
  },
  {
   "cell_type": "code",
   "execution_count": 8,
   "metadata": {},
   "outputs": [],
   "source": [
    "jsresp = response.json()\n",
    "originStationName=u'C/ SARDENYA, 292'\n",
    "stations = jsresp['network']['stations']        \n",
    "## ASSUMPTION: 'name' attribute is ALTERNATIVE KEY for any station -> so, no repeats in loop\n",
    "fbikes = [x['free_bikes'] for x in stations if originStationName in x['name']][0]"
   ]
  },
  {
   "cell_type": "code",
   "execution_count": 9,
   "metadata": {},
   "outputs": [],
   "source": [
    "destStationName=u'AV. DE LA CATEDRAL 6'\n",
    "stations = jsresp['network']['stations']        \n",
    "## ASSUMPTION: 'name' attribute is ALTERNATIVE KEY for any station -> so, no repeats in loop\n",
    "fslots = [x['empty_slots'] for x in stations if destStationName in x['name']][0]"
   ]
  },
  {
   "cell_type": "code",
   "execution_count": 10,
   "metadata": {},
   "outputs": [
    {
     "name": "stdout",
     "output_type": "stream",
     "text": [
      "{\"DESTINATION\": {\"station_name\": \"AV. DE LA CATEDRAL 6\", \"free_slots\": 18}, \"ORIGIN\": {\"free_bikes\": 0, \"station_name\": \"C/ SARDENYA, 292\"}}\n"
     ]
    }
   ],
   "source": [
    "data = {}\n",
    "data['ORIGIN'] = {'free_bikes':fbikes, 'station_name':originStationName}\n",
    "data['DESTINATION'] = {'free_slots':fslots, 'station_name':destStationName}\n",
    "json_data = json.dumps(data)\n",
    "print(json_data)"
   ]
  }
 ],
 "metadata": {
  "kernelspec": {
   "display_name": "Python 3",
   "language": "python",
   "name": "python3"
  },
  "language_info": {
   "codemirror_mode": {
    "name": "ipython",
    "version": 3
   },
   "file_extension": ".py",
   "mimetype": "text/x-python",
   "name": "python",
   "nbconvert_exporter": "python",
   "pygments_lexer": "ipython3",
   "version": "3.5.2"
  }
 },
 "nbformat": 4,
 "nbformat_minor": 2
}
