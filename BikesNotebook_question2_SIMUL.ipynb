{
 "cells": [
  {
   "cell_type": "markdown",
   "metadata": {},
   "source": [
    "## QUESTION 2 ##\n",
    "# Simulation / Operations Research appoach #\n",
    "\n",
    "\n",
    "For each station a Poisson Variable models the distribution of increment/decrement of bikes.\n",
    "\n",
    "A network of distances is build.\n",
    "\n",
    "There are as many scenarios as stations in Gracia District.\n",
    "Each scenario_i entails the situation where the user has station_i as the nearest to his home.\n",
    "The simulation process runs 100 experiments for each station.\n",
    "Each experiment instantiates "
   ]
  },
  {
   "cell_type": "code",
   "execution_count": null,
   "metadata": {},
   "outputs": [],
   "source": []
  }
 ],
 "metadata": {
  "kernelspec": {
   "display_name": "Python 3",
   "language": "python",
   "name": "python3"
  },
  "language_info": {
   "codemirror_mode": {
    "name": "ipython",
    "version": 3
   },
   "file_extension": ".py",
   "mimetype": "text/x-python",
   "name": "python",
   "nbconvert_exporter": "python",
   "pygments_lexer": "ipython3",
   "version": "3.5.2"
  }
 },
 "nbformat": 4,
 "nbformat_minor": 2
}
